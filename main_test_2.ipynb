{
 "cells": [
  {
   "cell_type": "markdown",
   "metadata": {},
   "source": [
    "# Test over Synthetic Data - part 2"
   ]
  },
  {
   "cell_type": "markdown",
   "metadata": {},
   "source": [
    "Now, we'll try this method on another boolean function that has more predictors (both actual and false).\n",
    "\n",
    "We will generate 1500 data points. Each data point will contain 100 predictors ($X_i = x_{i1}, x_{i2}, \\dots, x_{i100}$) and the response of the system ($y_i$). To generate the random data points $\\mathbf{X}=<X_1, X_2, \\dots, X_{1500}>$, we sample a thousand times from the binomial distribution with $n=100$ and $p=0.5$."
   ]
  },
  {
   "cell_type": "code",
   "execution_count": 1,
   "metadata": {},
   "outputs": [],
   "source": [
    "import importlib\n",
    "import sys\n",
    "main_spec = importlib.util.find_spec(\"main\")\n",
    "found = main_spec is not None\n",
    "project_root = \"\"\n",
    "if not found:\n",
    "    !rm -rf noisy-generalized-boolean\n",
    "    !git clone https://github.com/RohanBh/noisy-generalized-boolean\n",
    "    sys.path.append('noisy-generalized-boolean')\n",
    "    project_root = \"noisy-generalized-boolean/\""
   ]
  },
  {
   "cell_type": "code",
   "execution_count": 2,
   "metadata": {},
   "outputs": [],
   "source": [
    "import numpy as np\n",
    "import pandas as pd\n",
    "import matplotlib as mpl\n",
    "import matplotlib.pyplot as plt\n",
    "import main\n",
    "from IPython.display import FileLink\n",
    "import os"
   ]
  },
  {
   "cell_type": "markdown",
   "metadata": {},
   "source": [
    "#### NOTE\n",
    "Set the variable `load_samples` to `False` if you want to run a new MCMC (which may take a few minutes). Otherwise, the data (samples) is loaded from the previous MCMC that was run."
   ]
  },
  {
   "cell_type": "code",
   "execution_count": 3,
   "metadata": {},
   "outputs": [],
   "source": [
    "load_samples = True"
   ]
  },
  {
   "cell_type": "code",
   "execution_count": 4,
   "metadata": {},
   "outputs": [
    {
     "data": {
      "text/plain": [
       "array([[0., 1., 0., ..., 1., 1., 1.],\n",
       "       [1., 1., 1., ..., 0., 0., 1.],\n",
       "       [1., 0., 1., ..., 0., 0., 1.],\n",
       "       ...,\n",
       "       [0., 0., 1., ..., 1., 1., 1.],\n",
       "       [0., 0., 1., ..., 0., 0., 1.],\n",
       "       [0., 1., 1., ..., 0., 0., 0.]])"
      ]
     },
     "execution_count": 4,
     "metadata": {},
     "output_type": "execute_result"
    }
   ],
   "source": [
    "X = np.random.rand(1500, 100)\n",
    "X = np.round(X)\n",
    "X"
   ]
  },
  {
   "cell_type": "markdown",
   "metadata": {},
   "source": [
    "Now that we have $\\mathbf{X}$, it's time to generate our synthetic system's response $\\mathbf{Y}$. We say that the underlying boolean function depends only on the following 6 predictors out of 100 predictors:\n",
    "                $$M = <x_{13}, x_{31}, x_{38}, x_{55}, x_{77}, x_{89}>$$\n",
    "\n",
    "We'll represent this function by $F: \\{0,1\\}^6 \\rightarrow \\mathbb{Z}_{4} $, where $\\mathbb{Z}_{4} = \\{0, 1, 2, 3\\}$.\n",
    "\n",
    "The choice of $F$ is very simple. If the *boolean OR* of the actual predictors is *True*, then the bool_func generates:\n",
    "\n",
    "$$\n",
    "\\begin{align*}\n",
    "     y &= 0 \\:\\text{ w.p. }\\: 0.9 \\\\\n",
    "       &= 1 \\:\\text{ w.p. }\\: 0.05 \\\\\n",
    "       &= 2 \\:\\text{ w.p. }\\: 0 \\\\\n",
    "       &= 3 \\:\\text{ w.p. }\\: 0.05\n",
    "\\end{align*}\n",
    "$$\n",
    "\n",
    "And if the *boolean OR* evaluates to be *False*, then bool_func generates\n",
    "\n",
    "$$\n",
    "\\begin{align*}\n",
    "     y &= 0 \\:\\text{ w.p. }\\: 0 \\\\\n",
    "       &= 1 \\:\\text{ w.p. }\\: 0.1 \\\\\n",
    "       &= 2 \\:\\text{ w.p. }\\: 0.7 \\\\\n",
    "       &= 3 \\:\\text{ w.p. }\\: 0.2\n",
    "\\end{align*}\n",
    "$$\n",
    "\n",
    "Here \"w.p.\" abbreviation stands for *with probability*."
   ]
  },
  {
   "cell_type": "code",
   "execution_count": 5,
   "metadata": {},
   "outputs": [],
   "source": [
    "def bool_func(xi):\n",
    "    \"\"\"Takes an row of truth table and returns the response \n",
    "    according to the boolean function\"\"\"\n",
    "    on_true = [0.9, 0.05, 0, 0.05]\n",
    "    on_false = [0, 0.1, 0.7, 0.2]\n",
    "    weights =  on_true if np.any(xi) else on_false\n",
    "    return np.random.choice(4, p=weights)"
   ]
  },
  {
   "cell_type": "markdown",
   "metadata": {},
   "source": [
    "With the above defined function, we'll generate the response of the system for input $\\mathbf{X}$."
   ]
  },
  {
   "cell_type": "code",
   "execution_count": 6,
   "metadata": {},
   "outputs": [
    {
     "data": {
      "text/plain": [
       "(1500, 6)"
      ]
     },
     "execution_count": 6,
     "metadata": {},
     "output_type": "execute_result"
    }
   ],
   "source": [
    "X_actual = X[:, [89, 77, 55, 38, 31, 13]]\n",
    "X_actual.shape"
   ]
  },
  {
   "cell_type": "markdown",
   "metadata": {},
   "source": [
    "Now, we generate the response of the synthetic system $\\mathbf{Y}$, for all $1500$ rows in $\\mathbf{X}$."
   ]
  },
  {
   "cell_type": "code",
   "execution_count": 7,
   "metadata": {},
   "outputs": [
    {
     "data": {
      "text/plain": [
       "(1500,)"
      ]
     },
     "execution_count": 7,
     "metadata": {},
     "output_type": "execute_result"
    }
   ],
   "source": [
    "Y = np.apply_along_axis(bool_func, axis=1, arr=X_actual)\n",
    "Y.shape"
   ]
  },
  {
   "cell_type": "markdown",
   "metadata": {},
   "source": [
    "Now we have all we need. Let's see if our statistical method can predict which predictors does the response depends upon.\n",
    "\n",
    "We call the `metropolis` function from the module `main`. This function uses a **Metropolis-Hastings** MCMC algorithm. This algorithm runs a markov chain over the model space $\\mathcal{M}$ and generates samples of possible models with the posterior probability $P(M \\mid \\mathbf{Y}, \\mathbf{X})$. This behavior is true only after the markov chain has reached a steady state.\n",
    "\n",
    "The `metropolis` function returns the generated samples."
   ]
  },
  {
   "cell_type": "code",
   "execution_count": 8,
   "metadata": {},
   "outputs": [],
   "source": [
    "samples = []\n",
    "if not load_samples:\n",
    "    samples = main.metropolis(X, Y, q=4, iterations=50000, interval=5000, show_progress=True)\n",
    "    pd.DataFrame(samples).to_csv(f\"{project_root}data/mcmc-2.csv\")\n",
    "else:\n",
    "    samples = pd.read_csv(f\"{project_root}data/mcmc-2.csv\", index_col=0).values.tolist()"
   ]
  },
  {
   "cell_type": "code",
   "execution_count": 9,
   "metadata": {},
   "outputs": [
    {
     "data": {
      "text/html": [
       "<a href='data/mcmc-2.csv' target='_blank'>data/mcmc-2.csv</a><br>"
      ],
      "text/plain": [
       "/home/rohan/Projects/PythonProjects/generalized-noisy-boolean/data/mcmc-2.csv"
      ]
     },
     "execution_count": 9,
     "metadata": {},
     "output_type": "execute_result"
    }
   ],
   "source": [
    "FileLink(f\"{project_root}data/mcmc-2.csv\")"
   ]
  },
  {
   "cell_type": "markdown",
   "metadata": {},
   "source": [
    "Click on the link above to download the generated samples."
   ]
  },
  {
   "cell_type": "code",
   "execution_count": 10,
   "metadata": {},
   "outputs": [],
   "source": [
    "plt.ioff() # turn off interactive mode for matplotlib"
   ]
  },
  {
   "cell_type": "code",
   "execution_count": 11,
   "metadata": {},
   "outputs": [
    {
     "data": {
      "text/plain": [
       "(49581, 100)"
      ]
     },
     "execution_count": 11,
     "metadata": {},
     "output_type": "execute_result"
    }
   ],
   "source": [
    "data = np.array(samples)\n",
    "data.shape"
   ]
  },
  {
   "cell_type": "code",
   "execution_count": 12,
   "metadata": {},
   "outputs": [
    {
     "data": {
      "image/png": "[encoded data removed]",
      "text/plain": [
       "<Figure size 432x288 with 1 Axes>"
      ]
     },
     "metadata": {
      "needs_background": "light"
     },
     "output_type": "display_data"
    }
   ],
   "source": [
    "plt.plot(np.arange(data.shape[0]), np.count_nonzero(data, axis=1))\n",
    "plt.xlabel(\"Iterations\")\n",
    "plt.ylabel(r\"Model size ($\\vert M \\vert$)\")\n",
    "plt.show()"
   ]
  },
  {
   "cell_type": "markdown",
   "metadata": {},
   "source": [
    "We see that the markov chain enters steady state after around 10000 iterations. We discard the samples before that."
   ]
  },
  {
   "cell_type": "code",
   "execution_count": 13,
   "metadata": {},
   "outputs": [
    {
     "data": {
      "text/plain": [
       "(39581, 100)"
      ]
     },
     "execution_count": 13,
     "metadata": {},
     "output_type": "execute_result"
    }
   ],
   "source": [
    "data = data[10000:]\n",
    "data.shape"
   ]
  },
  {
   "cell_type": "markdown",
   "metadata": {},
   "source": [
    "The next plot gives the posterior probability that predictor $j$ is a part of the model given $Y$ and $X$."
   ]
  },
  {
   "cell_type": "markdown",
   "metadata": {},
   "source": [
    "$$\n",
    "     \\begin{align*}\n",
    "     P(j \\in M \\mid \\mathbf{Y}, \\mathbf{X}) &= \\sum_{M \\in \\mathcal{M}} P(j \\in M \\mid \\mathbf{Y}, \\mathbf{X}, M) P(M \\mid \\mathbf{Y}, \\mathbf{X}) \\\\\n",
    "         &= \\hat{\\mathbb{E}}[I_M(j)]_{P(M|\\mathbf{Y},\\mathbf{X})} \\\\\n",
    "         &= \\frac{1}{T} \\sum_{t=1}^T I_{M^{(t)}} (j)\n",
    "     \\end{align*}\n",
    "$$"
   ]
  },
  {
   "cell_type": "code",
   "execution_count": 14,
   "metadata": {},
   "outputs": [
    {
     "data": {
      "image/png": "[encoded data removed]",
      "text/plain": [
       "<Figure size 432x288 with 1 Axes>"
      ]
     },
     "metadata": {
      "needs_background": "light"
     },
     "output_type": "display_data"
    }
   ],
   "source": [
    "plt.bar(np.arange(data.shape[1]), data.mean(axis=0))\n",
    "plt.xlabel(\"Predictors ($j$)\")\n",
    "plt.ylabel(r\"$P(j \\in M \\mid \\mathbf{Y}, \\mathbf{X})$\")\n",
    "plt.show()"
   ]
  },
  {
   "cell_type": "markdown",
   "metadata": {},
   "source": [
    "We can see that the **actual predictors** have very high posterior probability."
   ]
  },
  {
   "cell_type": "code",
   "execution_count": 15,
   "metadata": {},
   "outputs": [
    {
     "data": {
      "text/plain": [
       "(array([13, 31, 38, 55, 77, 89]),)"
      ]
     },
     "execution_count": 15,
     "metadata": {},
     "output_type": "execute_result"
    }
   ],
   "source": [
    "actual_model = data.mean(axis=0) > 0\n",
    "actual_model.nonzero()"
   ]
  },
  {
   "cell_type": "markdown",
   "metadata": {},
   "source": [
    "As we can see, the only predictors with non zero posterior are the ones belonging to our original boolean function."
   ]
  },
  {
   "cell_type": "code",
   "execution_count": 16,
   "metadata": {
    "scrolled": true
   },
   "outputs": [],
   "source": [
    "models = pd.DataFrame(data).assign(count=-1).groupby(list(range(100))).count()"
   ]
  },
  {
   "cell_type": "markdown",
   "metadata": {},
   "source": [
    "Let's plot the models"
   ]
  },
  {
   "cell_type": "code",
   "execution_count": 17,
   "metadata": {},
   "outputs": [
    {
     "data": {
      "image/png": "[encoded data removed]",
      "text/plain": [
       "<Figure size 432x288 with 1 Axes>"
      ]
     },
     "metadata": {
      "needs_background": "light"
     },
     "output_type": "display_data"
    }
   ],
   "source": [
    "fig = plt.figure()\n",
    "ax = fig.add_subplot(111)\n",
    "model_counts = models.loc[:, 'count'].values\n",
    "ax.bar(np.arange(1, model_counts.size + 1), model_counts / model_counts.sum())\n",
    "ax.set_xlabel(\"Model ($M$)\")\n",
    "ax.set_ylabel(r\"$P(M \\mid \\mathbf{Y}, \\mathbf{X})$\")\n",
    "plt.show()"
   ]
  },
  {
   "cell_type": "markdown",
   "metadata": {},
   "source": [
    "Looks like the 5th model has a very high posterior. Let's see which predictors it contains."
   ]
  },
  {
   "cell_type": "code",
   "execution_count": 18,
   "metadata": {},
   "outputs": [
    {
     "data": {
      "text/plain": [
       "(array([38]),)"
      ]
     },
     "execution_count": 18,
     "metadata": {},
     "output_type": "execute_result"
    }
   ],
   "source": [
    "model_estimate = models.reset_index().iloc[4,:100].values > 0\n",
    "model_estimate.nonzero()"
   ]
  },
  {
   "cell_type": "markdown",
   "metadata": {},
   "source": [
    "This is disappointing. Let's compare the log posterior of actual and estimated models."
   ]
  },
  {
   "cell_type": "code",
   "execution_count": 19,
   "metadata": {},
   "outputs": [
    {
     "name": "stdout",
     "output_type": "stream",
     "text": [
      "-647.3964116216055\n",
      "-734.0178634863765\n"
     ]
    }
   ],
   "source": [
    "print(main.posterior(Y, X, model_estimate, 0.1, 4, np.e, 4))\n",
    "print(main.posterior(Y, X, actual_model, 0.1, 4, np.e, 4))"
   ]
  },
  {
   "cell_type": "markdown",
   "metadata": {},
   "source": [
    "The actual model does have a lower posterior."
   ]
  }
 ],
 "metadata": {
  "kernelspec": {
   "display_name": "Python 3",
   "language": "python",
   "name": "python3"
  },
  "language_info": {
   "codemirror_mode": {
    "name": "ipython",
    "version": 3
   },
   "file_extension": ".py",
   "mimetype": "text/x-python",
   "name": "python",
   "nbconvert_exporter": "python",
   "pygments_lexer": "ipython3",
   "version": "3.6.7"
  }
 },
 "nbformat": 4,
 "nbformat_minor": 2
}

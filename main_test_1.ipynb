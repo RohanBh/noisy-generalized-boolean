{
 "cells": [
  {
   "cell_type": "markdown",
   "metadata": {},
   "source": [
    "# Test over Synthetic Data - part 1"
   ]
  },
  {
   "cell_type": "markdown",
   "metadata": {},
   "source": [
    "We will generate 1000 data points. Each data point will contain 70 predictors ($X_i = x_{i1}, x_{i2}, \\dots, x_{i70}$) and the response of the system ($y_i$). To generate the random data points $\\mathbf{X}=<X_1, X_2, \\dots, X_{1000}>$, we sample a thousand times from the binomial distribution with $n=70$ and $p=0.5$."
   ]
  },
  {
   "cell_type": "markdown",
   "metadata": {},
   "source": [
    "Let's first import the necessary modules."
   ]
  },
  {
   "cell_type": "code",
   "execution_count": 1,
   "metadata": {},
   "outputs": [],
   "source": [
    "import importlib\n",
    "import sys\n",
    "main_spec = importlib.util.find_spec(\"main\")\n",
    "found = main_spec is not None\n",
    "project_root = \"\"\n",
    "if not found:\n",
    "    !rm -rf noisy-generalized-boolean\n",
    "    !git clone https://github.com/RohanBh/noisy-generalized-boolean\n",
    "    project_root = \"noisy-generalized-boolean/\"\n",
    "    sys.path.append(f\"{project_root}\")"
   ]
  },
  {
   "cell_type": "code",
   "execution_count": 2,
   "metadata": {},
   "outputs": [],
   "source": [
    "import numpy as np\n",
    "import pandas as pd\n",
    "import matplotlib as mpl\n",
    "import matplotlib.pyplot as plt\n",
    "import main\n",
    "from IPython.display import FileLink"
   ]
  },
  {
   "cell_type": "markdown",
   "metadata": {},
   "source": [
    "#### NOTE\n",
    "Set the variable `load_samples` to `False` if you want to run a new MCMC (which may take a few minutes). Otherwise, the data (samples) is loaded from the previous MCMC that was run."
   ]
  },
  {
   "cell_type": "code",
   "execution_count": 3,
   "metadata": {},
   "outputs": [],
   "source": [
    "load_samples = False"
   ]
  },
  {
   "cell_type": "markdown",
   "metadata": {},
   "source": [
    "To generate $\\mathbf{X}$, we will use a simple `numpy` trick."
   ]
  },
  {
   "cell_type": "code",
   "execution_count": 4,
   "metadata": {},
   "outputs": [
    {
     "data": {
      "text/plain": [
       "array([[1., 1., 0., ..., 0., 1., 0.],\n",
       "       [1., 1., 1., ..., 1., 1., 0.],\n",
       "       [1., 1., 1., ..., 1., 1., 0.],\n",
       "       ...,\n",
       "       [1., 0., 0., ..., 0., 0., 1.],\n",
       "       [0., 1., 0., ..., 1., 1., 1.],\n",
       "       [1., 1., 0., ..., 0., 0., 0.]])"
      ]
     },
     "execution_count": 4,
     "metadata": {},
     "output_type": "execute_result"
    }
   ],
   "source": [
    "X = np.random.rand(1000, 70)\n",
    "X = np.round(X)\n",
    "X"
   ]
  },
  {
   "cell_type": "code",
   "execution_count": 5,
   "metadata": {},
   "outputs": [
    {
     "data": {
      "text/plain": [
       "(1000, 70)"
      ]
     },
     "execution_count": 5,
     "metadata": {},
     "output_type": "execute_result"
    }
   ],
   "source": [
    "X.shape"
   ]
  },
  {
   "cell_type": "markdown",
   "metadata": {},
   "source": [
    "Now that we have $\\mathbf{X}$, it's time to generate our synthetic system's response $\\mathbf{Y}$. To do that, first we'll need to identify the noisy function of actual predictors according to which response is made. Since our statistical method works for sparse models, we say that this underlying function depends only on the following 4 predictors out of 70 predictors:\n",
    "                $$M = <x_{13}, x_{31}, x_{38}, x_{55}>$$\n",
    "\n",
    "We'll represent this function by $F: \\{0,1\\}^4 \\rightarrow \\mathbb{Z}_{3} $, where $\\mathbb{Z}_{3} = \\{0, 1, 2\\}$.\n",
    "\n",
    "We have a generated boolean function stored as a csv. Lets load it."
   ]
  },
  {
   "cell_type": "code",
   "execution_count": 6,
   "metadata": {},
   "outputs": [
    {
     "data": {
      "text/html": [
       "<div>\n",
       "<style scoped>\n",
       "    .dataframe tbody tr th:only-of-type {\n",
       "        vertical-align: middle;\n",
       "    }\n",
       "\n",
       "    .dataframe tbody tr th {\n",
       "        vertical-align: top;\n",
       "    }\n",
       "\n",
       "    .dataframe thead th {\n",
       "        text-align: right;\n",
       "    }\n",
       "</style>\n",
       "<table border=\"1\" class=\"dataframe\">\n",
       "  <thead>\n",
       "    <tr style=\"text-align: right;\">\n",
       "      <th></th>\n",
       "      <th>x55</th>\n",
       "      <th>x38</th>\n",
       "      <th>x31</th>\n",
       "      <th>x13</th>\n",
       "      <th>y0</th>\n",
       "      <th>y1</th>\n",
       "      <th>y2</th>\n",
       "    </tr>\n",
       "  </thead>\n",
       "  <tbody>\n",
       "    <tr>\n",
       "      <th>0</th>\n",
       "      <td>0.0</td>\n",
       "      <td>0.0</td>\n",
       "      <td>0.0</td>\n",
       "      <td>0.0</td>\n",
       "      <td>7.715613e-01</td>\n",
       "      <td>4.817829e-10</td>\n",
       "      <td>2.284387e-01</td>\n",
       "    </tr>\n",
       "    <tr>\n",
       "      <th>1</th>\n",
       "      <td>0.0</td>\n",
       "      <td>0.0</td>\n",
       "      <td>0.0</td>\n",
       "      <td>1.0</td>\n",
       "      <td>2.581223e-04</td>\n",
       "      <td>9.997419e-01</td>\n",
       "      <td>1.238610e-21</td>\n",
       "    </tr>\n",
       "    <tr>\n",
       "      <th>2</th>\n",
       "      <td>0.0</td>\n",
       "      <td>0.0</td>\n",
       "      <td>1.0</td>\n",
       "      <td>0.0</td>\n",
       "      <td>9.999999e-01</td>\n",
       "      <td>7.076523e-08</td>\n",
       "      <td>2.697647e-08</td>\n",
       "    </tr>\n",
       "    <tr>\n",
       "      <th>3</th>\n",
       "      <td>0.0</td>\n",
       "      <td>0.0</td>\n",
       "      <td>1.0</td>\n",
       "      <td>1.0</td>\n",
       "      <td>9.032021e-01</td>\n",
       "      <td>1.337596e-14</td>\n",
       "      <td>9.679786e-02</td>\n",
       "    </tr>\n",
       "    <tr>\n",
       "      <th>4</th>\n",
       "      <td>0.0</td>\n",
       "      <td>1.0</td>\n",
       "      <td>0.0</td>\n",
       "      <td>0.0</td>\n",
       "      <td>9.925948e-01</td>\n",
       "      <td>4.670690e-03</td>\n",
       "      <td>2.734479e-03</td>\n",
       "    </tr>\n",
       "    <tr>\n",
       "      <th>5</th>\n",
       "      <td>0.0</td>\n",
       "      <td>1.0</td>\n",
       "      <td>0.0</td>\n",
       "      <td>1.0</td>\n",
       "      <td>8.782210e-01</td>\n",
       "      <td>6.807604e-42</td>\n",
       "      <td>1.217790e-01</td>\n",
       "    </tr>\n",
       "    <tr>\n",
       "      <th>6</th>\n",
       "      <td>0.0</td>\n",
       "      <td>1.0</td>\n",
       "      <td>1.0</td>\n",
       "      <td>0.0</td>\n",
       "      <td>1.298939e-11</td>\n",
       "      <td>1.000000e+00</td>\n",
       "      <td>7.649856e-39</td>\n",
       "    </tr>\n",
       "    <tr>\n",
       "      <th>7</th>\n",
       "      <td>0.0</td>\n",
       "      <td>1.0</td>\n",
       "      <td>1.0</td>\n",
       "      <td>1.0</td>\n",
       "      <td>9.986412e-01</td>\n",
       "      <td>5.024311e-07</td>\n",
       "      <td>1.358252e-03</td>\n",
       "    </tr>\n",
       "    <tr>\n",
       "      <th>8</th>\n",
       "      <td>1.0</td>\n",
       "      <td>0.0</td>\n",
       "      <td>0.0</td>\n",
       "      <td>0.0</td>\n",
       "      <td>3.150446e-04</td>\n",
       "      <td>9.996850e-01</td>\n",
       "      <td>1.792178e-25</td>\n",
       "    </tr>\n",
       "    <tr>\n",
       "      <th>9</th>\n",
       "      <td>1.0</td>\n",
       "      <td>0.0</td>\n",
       "      <td>0.0</td>\n",
       "      <td>1.0</td>\n",
       "      <td>2.755406e-26</td>\n",
       "      <td>1.000000e+00</td>\n",
       "      <td>1.799499e-17</td>\n",
       "    </tr>\n",
       "    <tr>\n",
       "      <th>10</th>\n",
       "      <td>1.0</td>\n",
       "      <td>0.0</td>\n",
       "      <td>1.0</td>\n",
       "      <td>0.0</td>\n",
       "      <td>9.999991e-01</td>\n",
       "      <td>1.784450e-14</td>\n",
       "      <td>8.674651e-07</td>\n",
       "    </tr>\n",
       "    <tr>\n",
       "      <th>11</th>\n",
       "      <td>1.0</td>\n",
       "      <td>0.0</td>\n",
       "      <td>1.0</td>\n",
       "      <td>1.0</td>\n",
       "      <td>4.474974e-01</td>\n",
       "      <td>2.493161e-01</td>\n",
       "      <td>3.031865e-01</td>\n",
       "    </tr>\n",
       "    <tr>\n",
       "      <th>12</th>\n",
       "      <td>1.0</td>\n",
       "      <td>1.0</td>\n",
       "      <td>0.0</td>\n",
       "      <td>0.0</td>\n",
       "      <td>1.766313e-08</td>\n",
       "      <td>5.349662e-03</td>\n",
       "      <td>9.946503e-01</td>\n",
       "    </tr>\n",
       "    <tr>\n",
       "      <th>13</th>\n",
       "      <td>1.0</td>\n",
       "      <td>1.0</td>\n",
       "      <td>0.0</td>\n",
       "      <td>1.0</td>\n",
       "      <td>4.391341e-11</td>\n",
       "      <td>9.990870e-01</td>\n",
       "      <td>9.129619e-04</td>\n",
       "    </tr>\n",
       "    <tr>\n",
       "      <th>14</th>\n",
       "      <td>1.0</td>\n",
       "      <td>1.0</td>\n",
       "      <td>1.0</td>\n",
       "      <td>0.0</td>\n",
       "      <td>1.623370e-06</td>\n",
       "      <td>3.274524e-02</td>\n",
       "      <td>9.672531e-01</td>\n",
       "    </tr>\n",
       "    <tr>\n",
       "      <th>15</th>\n",
       "      <td>1.0</td>\n",
       "      <td>1.0</td>\n",
       "      <td>1.0</td>\n",
       "      <td>1.0</td>\n",
       "      <td>8.093945e-01</td>\n",
       "      <td>1.906055e-01</td>\n",
       "      <td>3.821038e-09</td>\n",
       "    </tr>\n",
       "  </tbody>\n",
       "</table>\n",
       "</div>"
      ],
      "text/plain": [
       "    x55  x38  x31  x13            y0            y1            y2\n",
       "0   0.0  0.0  0.0  0.0  7.715613e-01  4.817829e-10  2.284387e-01\n",
       "1   0.0  0.0  0.0  1.0  2.581223e-04  9.997419e-01  1.238610e-21\n",
       "2   0.0  0.0  1.0  0.0  9.999999e-01  7.076523e-08  2.697647e-08\n",
       "3   0.0  0.0  1.0  1.0  9.032021e-01  1.337596e-14  9.679786e-02\n",
       "4   0.0  1.0  0.0  0.0  9.925948e-01  4.670690e-03  2.734479e-03\n",
       "5   0.0  1.0  0.0  1.0  8.782210e-01  6.807604e-42  1.217790e-01\n",
       "6   0.0  1.0  1.0  0.0  1.298939e-11  1.000000e+00  7.649856e-39\n",
       "7   0.0  1.0  1.0  1.0  9.986412e-01  5.024311e-07  1.358252e-03\n",
       "8   1.0  0.0  0.0  0.0  3.150446e-04  9.996850e-01  1.792178e-25\n",
       "9   1.0  0.0  0.0  1.0  2.755406e-26  1.000000e+00  1.799499e-17\n",
       "10  1.0  0.0  1.0  0.0  9.999991e-01  1.784450e-14  8.674651e-07\n",
       "11  1.0  0.0  1.0  1.0  4.474974e-01  2.493161e-01  3.031865e-01\n",
       "12  1.0  1.0  0.0  0.0  1.766313e-08  5.349662e-03  9.946503e-01\n",
       "13  1.0  1.0  0.0  1.0  4.391341e-11  9.990870e-01  9.129619e-04\n",
       "14  1.0  1.0  1.0  0.0  1.623370e-06  3.274524e-02  9.672531e-01\n",
       "15  1.0  1.0  1.0  1.0  8.093945e-01  1.906055e-01  3.821038e-09"
      ]
     },
     "execution_count": 6,
     "metadata": {},
     "output_type": "execute_result"
    }
   ],
   "source": [
    "df = pd.read_csv(f\"{project_root}data/bool_func.csv\", index_col=0)\n",
    "df"
   ]
  },
  {
   "cell_type": "markdown",
   "metadata": {},
   "source": [
    "Each row of this boolean function is sampled from a dirichlet distribution."
   ]
  },
  {
   "cell_type": "markdown",
   "metadata": {},
   "source": [
    "Next, we define a utility function that generates the response for a row in $\\mathbf{X}$."
   ]
  },
  {
   "cell_type": "code",
   "execution_count": 7,
   "metadata": {},
   "outputs": [],
   "source": [
    "def bool_func(xi):\n",
    "    \"\"\"Takes an index/row of truth table and returns the response \n",
    "    according to the boolean function\"\"\"\n",
    "    if isinstance(xi, int):\n",
    "        weight_arr = df.iloc[xi, 4:].values\n",
    "    else:\n",
    "        bool_arr = np.all(df.iloc[:, :4].values == xi, axis=1)\n",
    "        weight_arr = df.iloc[bool_arr, 4:].iloc[0].values\n",
    "    return np.random.choice(3, p=weight_arr)"
   ]
  },
  {
   "cell_type": "markdown",
   "metadata": {},
   "source": [
    "With `bool_func` we can start generating responses of our synthetic system. The response depends only on **actual predictors** of the system."
   ]
  },
  {
   "cell_type": "code",
   "execution_count": 8,
   "metadata": {},
   "outputs": [
    {
     "data": {
      "text/plain": [
       "(1000, 4)"
      ]
     },
     "execution_count": 8,
     "metadata": {},
     "output_type": "execute_result"
    }
   ],
   "source": [
    "X_actual = X[:, [55, 38, 31, 13]]\n",
    "X_actual.shape"
   ]
  },
  {
   "cell_type": "markdown",
   "metadata": {},
   "source": [
    "Now, we generate the response of the synthetic system $\\mathbf{Y}$, for all $1000$ rows in $\\mathbf{X}$."
   ]
  },
  {
   "cell_type": "code",
   "execution_count": 9,
   "metadata": {},
   "outputs": [
    {
     "data": {
      "text/plain": [
       "(1000,)"
      ]
     },
     "execution_count": 9,
     "metadata": {},
     "output_type": "execute_result"
    }
   ],
   "source": [
    "Y = np.apply_along_axis(bool_func, axis=1, arr=X_actual)\n",
    "Y.shape"
   ]
  },
  {
   "cell_type": "markdown",
   "metadata": {},
   "source": [
    "Now we have all we need. Let's see if our statistical method can predict which predictors does the response depends upon.\n",
    "\n",
    "We call the `metropolis` function from the module `main`. This function uses a **Metropolis-Hastings** MCMC algorithm. This algorithm runs a markov chain over the model space $\\mathcal{M}$ and generates samples of possible models with the posterior probability $P(M \\mid \\mathbf{Y}, \\mathbf{X})$. This behavior is true only after the markov chain has reached a steady state.\n",
    "\n",
    "The `metropolis` function returns the generated samples."
   ]
  },
  {
   "cell_type": "code",
   "execution_count": 10,
   "metadata": {},
   "outputs": [
    {
     "name": "stdout",
     "output_type": "stream",
     "text": [
      "********** Running MCMC **********\n",
      "500: 500 iterations took 42.59 seconds                                         \n",
      "1000: 500 iterations took 51.15 seconds                                         \n",
      "1500: 500 iterations took 25.43 seconds                                         \n",
      "2000: 500 iterations took 25.37 seconds                                         \n",
      "2500: 500 iterations took 25.12 seconds                                         \n",
      "3000: 500 iterations took 23.04 seconds                                         \n",
      "3500: 500 iterations took 15.94 seconds                                         \n",
      "4000: 500 iterations took 15.97 seconds                                         \n",
      "4500: 500 iterations took 15.50 seconds                                         \n",
      "5000: 500 iterations took 15.15 seconds                                         \n",
      "5500: 500 iterations took 15.06 seconds                                         \n",
      "6000: 500 iterations took 15.09 seconds                                         \n",
      "6500: 500 iterations took 15.18 seconds                                         \n",
      "7000: 500 iterations took 15.27 seconds                                         \n",
      "7500: 500 iterations took 15.23 seconds                                         \n",
      "********** loop took 346.26 seconds **********                               \n"
     ]
    }
   ],
   "source": [
    "samples = []\n",
    "if not load_samples:\n",
    "    samples = main.metropolis(X, Y, q=3, iterations=8000, show_progress=True)\n",
    "    pd.DataFrame(samples).to_csv(f\"{project_root}data/mcmc-1.csv\")\n",
    "else:\n",
    "    samples = pd.read_csv(f\"{project_root}data/mcmc-1.csv\", index_col=0).values"
   ]
  },
  {
   "cell_type": "code",
   "execution_count": 11,
   "metadata": {},
   "outputs": [
    {
     "data": {
      "text/html": [
       "<a href='data/mcmc-1.csv' target='_blank'>data/mcmc-1.csv</a><br>"
      ],
      "text/plain": [
       "/home/rohan/Projects/PythonProjects/generalized-noisy-boolean/data/mcmc-1.csv"
      ]
     },
     "execution_count": 11,
     "metadata": {},
     "output_type": "execute_result"
    }
   ],
   "source": [
    "FileLink(f'{project_root}data/mcmc-1.csv')"
   ]
  },
  {
   "cell_type": "markdown",
   "metadata": {},
   "source": [
    "Click on the link above to download the generated samples."
   ]
  },
  {
   "cell_type": "code",
   "execution_count": 12,
   "metadata": {},
   "outputs": [],
   "source": [
    "plt.ioff() # turn off interactive mode for matplotlib"
   ]
  },
  {
   "cell_type": "code",
   "execution_count": 13,
   "metadata": {},
   "outputs": [
    {
     "data": {
      "text/plain": [
       "(8001, 70)"
      ]
     },
     "execution_count": 13,
     "metadata": {},
     "output_type": "execute_result"
    }
   ],
   "source": [
    "data = np.array(samples)\n",
    "data.shape"
   ]
  },
  {
   "cell_type": "code",
   "execution_count": 14,
   "metadata": {},
   "outputs": [
    {
     "data": {
      "image/png": "[encoded data removed]",
      "text/plain": [
       "<Figure size 432x288 with 1 Axes>"
      ]
     },
     "metadata": {
      "needs_background": "light"
     },
     "output_type": "display_data"
    }
   ],
   "source": [
    "plt.plot(np.arange(data.shape[0]), np.count_nonzero(data, axis=1))\n",
    "plt.xlabel(\"Iterations\")\n",
    "plt.ylabel(r\"Model size ($\\vert M \\vert$)\")\n",
    "plt.show()"
   ]
  },
  {
   "cell_type": "markdown",
   "metadata": {},
   "source": [
    "We see that the markov chain enters steady state after around 2500 iterations. We discard the samples before that."
   ]
  },
  {
   "cell_type": "code",
   "execution_count": 15,
   "metadata": {},
   "outputs": [
    {
     "data": {
      "text/plain": [
       "(5501, 70)"
      ]
     },
     "execution_count": 15,
     "metadata": {},
     "output_type": "execute_result"
    }
   ],
   "source": [
    "data = data[2500:]\n",
    "data.shape"
   ]
  },
  {
   "cell_type": "markdown",
   "metadata": {},
   "source": [
    "The next plot gives the posterior probability that predictor $i$ is a part of the model given $Y$ and $X$."
   ]
  },
  {
   "cell_type": "markdown",
   "metadata": {},
   "source": [
    "$$\n",
    "     \\begin{align*}\n",
    "     P(j \\in M \\mid Y, X) &= \\sum_{M \\in \\mathcal{M}} P(j \\in M \\mid \\mathbf{Y}, \\mathbf{X}, M) P(M \\mid \\mathbf{Y}, \\mathbf{X}) \\\\\n",
    "         &= \\hat{\\mathbb{E}}[I_M(j)]_{P(M|\\mathbf{Y},\\mathbf{X})} \\\\\n",
    "         &= \\frac{1}{T} \\sum_{t=1}^T I_{M^{(t)}} (j)\n",
    "     \\end{align*}\n",
    "$$"
   ]
  },
  {
   "cell_type": "code",
   "execution_count": 16,
   "metadata": {},
   "outputs": [
    {
     "data": {
      "image/png": "[encoded data removed]",
      "text/plain": [
       "<Figure size 432x288 with 1 Axes>"
      ]
     },
     "metadata": {
      "needs_background": "light"
     },
     "output_type": "display_data"
    }
   ],
   "source": [
    "plt.bar(np.arange(data.shape[1]), data.mean(axis=0))\n",
    "plt.xlabel(\"Predictor ($j$)\")\n",
    "plt.ylabel(r\"$P(j \\in M \\mid \\mathbf{Y}, \\mathbf{X})$\")\n",
    "plt.show()"
   ]
  },
  {
   "cell_type": "markdown",
   "metadata": {},
   "source": [
    "We can see that the **actual predictors** have very high posterior probability."
   ]
  },
  {
   "cell_type": "code",
   "execution_count": 17,
   "metadata": {},
   "outputs": [
    {
     "data": {
      "text/plain": [
       "(array([13, 31, 38, 55]),)"
      ]
     },
     "execution_count": 17,
     "metadata": {},
     "output_type": "execute_result"
    }
   ],
   "source": [
    "predicted_model = data.mean(axis=0) > 0.7\n",
    "predicted_model.nonzero()"
   ]
  },
  {
   "cell_type": "markdown",
   "metadata": {},
   "source": [
    "Uncomment the following line to see number of times different models were sampled."
   ]
  },
  {
   "cell_type": "code",
   "execution_count": 18,
   "metadata": {},
   "outputs": [],
   "source": [
    "# pd.DataFrame(data).assign(count=-1).groupby(list(range(70))).count()"
   ]
  }
 ],
 "metadata": {
  "kernelspec": {
   "display_name": "Python 3",
   "language": "python",
   "name": "python3"
  },
  "language_info": {
   "codemirror_mode": {
    "name": "ipython",
    "version": 3
   },
   "file_extension": ".py",
   "mimetype": "text/x-python",
   "name": "python",
   "nbconvert_exporter": "python",
   "pygments_lexer": "ipython3",
   "version": "3.6.7"
  }
 },
 "nbformat": 4,
 "nbformat_minor": 2
}
